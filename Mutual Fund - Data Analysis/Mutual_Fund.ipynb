{
  "cells": [
    {
      "cell_type": "code",
      "execution_count": null,
      "metadata": {
        "id": "5Wg9TwQTn46g"
      },
      "outputs": [],
      "source": [
        "import pandas as pd\n",
        "import numpy as np\n",
        "import matplotlib.pyplot as plt\n",
        "import seaborn as sns\n"
      ]
    },
    {
      "cell_type": "code",
      "execution_count": null,
      "metadata": {
        "colab": {
          "base_uri": "https://localhost:8080/",
          "height": 73
        },
        "id": "xQHReGGXoB7U",
        "outputId": "4a93d9b6-86ab-4ce0-8d52-151019c73083"
      },
      "outputs": [
        {
          "output_type": "display_data",
          "data": {
            "text/plain": [
              "<IPython.core.display.HTML object>"
            ],
            "text/html": [
              "\n",
              "     <input type=\"file\" id=\"files-bf7d21ca-067c-40b8-8df3-435848878bf5\" name=\"files[]\" multiple disabled\n",
              "        style=\"border:none\" />\n",
              "     <output id=\"result-bf7d21ca-067c-40b8-8df3-435848878bf5\">\n",
              "      Upload widget is only available when the cell has been executed in the\n",
              "      current browser session. Please rerun this cell to enable.\n",
              "      </output>\n",
              "      <script>// Copyright 2017 Google LLC\n",
              "//\n",
              "// Licensed under the Apache License, Version 2.0 (the \"License\");\n",
              "// you may not use this file except in compliance with the License.\n",
              "// You may obtain a copy of the License at\n",
              "//\n",
              "//      http://www.apache.org/licenses/LICENSE-2.0\n",
              "//\n",
              "// Unless required by applicable law or agreed to in writing, software\n",
              "// distributed under the License is distributed on an \"AS IS\" BASIS,\n",
              "// WITHOUT WARRANTIES OR CONDITIONS OF ANY KIND, either express or implied.\n",
              "// See the License for the specific language governing permissions and\n",
              "// limitations under the License.\n",
              "\n",
              "/**\n",
              " * @fileoverview Helpers for google.colab Python module.\n",
              " */\n",
              "(function(scope) {\n",
              "function span(text, styleAttributes = {}) {\n",
              "  const element = document.createElement('span');\n",
              "  element.textContent = text;\n",
              "  for (const key of Object.keys(styleAttributes)) {\n",
              "    element.style[key] = styleAttributes[key];\n",
              "  }\n",
              "  return element;\n",
              "}\n",
              "\n",
              "// Max number of bytes which will be uploaded at a time.\n",
              "const MAX_PAYLOAD_SIZE = 100 * 1024;\n",
              "\n",
              "function _uploadFiles(inputId, outputId) {\n",
              "  const steps = uploadFilesStep(inputId, outputId);\n",
              "  const outputElement = document.getElementById(outputId);\n",
              "  // Cache steps on the outputElement to make it available for the next call\n",
              "  // to uploadFilesContinue from Python.\n",
              "  outputElement.steps = steps;\n",
              "\n",
              "  return _uploadFilesContinue(outputId);\n",
              "}\n",
              "\n",
              "// This is roughly an async generator (not supported in the browser yet),\n",
              "// where there are multiple asynchronous steps and the Python side is going\n",
              "// to poll for completion of each step.\n",
              "// This uses a Promise to block the python side on completion of each step,\n",
              "// then passes the result of the previous step as the input to the next step.\n",
              "function _uploadFilesContinue(outputId) {\n",
              "  const outputElement = document.getElementById(outputId);\n",
              "  const steps = outputElement.steps;\n",
              "\n",
              "  const next = steps.next(outputElement.lastPromiseValue);\n",
              "  return Promise.resolve(next.value.promise).then((value) => {\n",
              "    // Cache the last promise value to make it available to the next\n",
              "    // step of the generator.\n",
              "    outputElement.lastPromiseValue = value;\n",
              "    return next.value.response;\n",
              "  });\n",
              "}\n",
              "\n",
              "/**\n",
              " * Generator function which is called between each async step of the upload\n",
              " * process.\n",
              " * @param {string} inputId Element ID of the input file picker element.\n",
              " * @param {string} outputId Element ID of the output display.\n",
              " * @return {!Iterable<!Object>} Iterable of next steps.\n",
              " */\n",
              "function* uploadFilesStep(inputId, outputId) {\n",
              "  const inputElement = document.getElementById(inputId);\n",
              "  inputElement.disabled = false;\n",
              "\n",
              "  const outputElement = document.getElementById(outputId);\n",
              "  outputElement.innerHTML = '';\n",
              "\n",
              "  const pickedPromise = new Promise((resolve) => {\n",
              "    inputElement.addEventListener('change', (e) => {\n",
              "      resolve(e.target.files);\n",
              "    });\n",
              "  });\n",
              "\n",
              "  const cancel = document.createElement('button');\n",
              "  inputElement.parentElement.appendChild(cancel);\n",
              "  cancel.textContent = 'Cancel upload';\n",
              "  const cancelPromise = new Promise((resolve) => {\n",
              "    cancel.onclick = () => {\n",
              "      resolve(null);\n",
              "    };\n",
              "  });\n",
              "\n",
              "  // Wait for the user to pick the files.\n",
              "  const files = yield {\n",
              "    promise: Promise.race([pickedPromise, cancelPromise]),\n",
              "    response: {\n",
              "      action: 'starting',\n",
              "    }\n",
              "  };\n",
              "\n",
              "  cancel.remove();\n",
              "\n",
              "  // Disable the input element since further picks are not allowed.\n",
              "  inputElement.disabled = true;\n",
              "\n",
              "  if (!files) {\n",
              "    return {\n",
              "      response: {\n",
              "        action: 'complete',\n",
              "      }\n",
              "    };\n",
              "  }\n",
              "\n",
              "  for (const file of files) {\n",
              "    const li = document.createElement('li');\n",
              "    li.append(span(file.name, {fontWeight: 'bold'}));\n",
              "    li.append(span(\n",
              "        `(${file.type || 'n/a'}) - ${file.size} bytes, ` +\n",
              "        `last modified: ${\n",
              "            file.lastModifiedDate ? file.lastModifiedDate.toLocaleDateString() :\n",
              "                                    'n/a'} - `));\n",
              "    const percent = span('0% done');\n",
              "    li.appendChild(percent);\n",
              "\n",
              "    outputElement.appendChild(li);\n",
              "\n",
              "    const fileDataPromise = new Promise((resolve) => {\n",
              "      const reader = new FileReader();\n",
              "      reader.onload = (e) => {\n",
              "        resolve(e.target.result);\n",
              "      };\n",
              "      reader.readAsArrayBuffer(file);\n",
              "    });\n",
              "    // Wait for the data to be ready.\n",
              "    let fileData = yield {\n",
              "      promise: fileDataPromise,\n",
              "      response: {\n",
              "        action: 'continue',\n",
              "      }\n",
              "    };\n",
              "\n",
              "    // Use a chunked sending to avoid message size limits. See b/62115660.\n",
              "    let position = 0;\n",
              "    do {\n",
              "      const length = Math.min(fileData.byteLength - position, MAX_PAYLOAD_SIZE);\n",
              "      const chunk = new Uint8Array(fileData, position, length);\n",
              "      position += length;\n",
              "\n",
              "      const base64 = btoa(String.fromCharCode.apply(null, chunk));\n",
              "      yield {\n",
              "        response: {\n",
              "          action: 'append',\n",
              "          file: file.name,\n",
              "          data: base64,\n",
              "        },\n",
              "      };\n",
              "\n",
              "      let percentDone = fileData.byteLength === 0 ?\n",
              "          100 :\n",
              "          Math.round((position / fileData.byteLength) * 100);\n",
              "      percent.textContent = `${percentDone}% done`;\n",
              "\n",
              "    } while (position < fileData.byteLength);\n",
              "  }\n",
              "\n",
              "  // All done.\n",
              "  yield {\n",
              "    response: {\n",
              "      action: 'complete',\n",
              "    }\n",
              "  };\n",
              "}\n",
              "\n",
              "scope.google = scope.google || {};\n",
              "scope.google.colab = scope.google.colab || {};\n",
              "scope.google.colab._files = {\n",
              "  _uploadFiles,\n",
              "  _uploadFilesContinue,\n",
              "};\n",
              "})(self);\n",
              "</script> "
            ]
          },
          "metadata": {}
        },
        {
          "output_type": "stream",
          "name": "stdout",
          "text": [
            "Saving mutual_funds_india.xlsx to mutual_funds_india.xlsx\n"
          ]
        }
      ],
      "source": [
        "from google.colab import files\n",
        "uploaded=files.upload()\n"
      ]
    },
    {
      "cell_type": "code",
      "source": [
        "question=[1,2,3,4,5,6,7]"
      ],
      "metadata": {
        "id": "OyVg2ja1SToW"
      },
      "execution_count": null,
      "outputs": []
    },
    {
      "cell_type": "code",
      "execution_count": null,
      "metadata": {
        "id": "5xYS48iXoPPw"
      },
      "outputs": [],
      "source": [
        "df=pd.read_csv(\"mutual_funds_india.csv\")"
      ]
    },
    {
      "cell_type": "code",
      "source": [
        "question.plot(type='bar', rot=90)"
      ],
      "metadata": {
        "id": "OAQnm9qYSaNj"
      },
      "execution_count": null,
      "outputs": []
    },
    {
      "cell_type": "code",
      "execution_count": null,
      "metadata": {
        "id": "wkv5EcvUsIc3"
      },
      "outputs": [],
      "source": [
        "df1=df.copy(deep=True)"
      ]
    },
    {
      "cell_type": "code",
      "execution_count": null,
      "metadata": {
        "colab": {
          "base_uri": "https://localhost:8080/",
          "height": 206
        },
        "id": "chsra1uWsNFu",
        "outputId": "0ffe72bd-1ed0-44ae-d607-df01d4440f01"
      },
      "outputs": [
        {
          "output_type": "execute_result",
          "data": {
            "text/plain": [
              "   Unnamed: 0 AMC_name                                   Mutual Fund Name  \\\n",
              "0           0    Quant            Quant Small Cap Fund Direct Plan Growth   \n",
              "1           1   Canara         Canara Robeco Small Cap Fund Direct Growth   \n",
              "2           2     PGIM  PGIM India Midcap Opportunities Fund Direct Gr...   \n",
              "3           3     Bank         Bank of India Small Cap Fund Direct Growth   \n",
              "4           4    Quant                       Quant Tax Plan Direct Growth   \n",
              "\n",
              "  category       risk_type  fund_rating  return_1yr  return_3yr  return_5yr  \n",
              "0   Equity  Very High Risk          4.0        9.98       54.37       22.73  \n",
              "1   Equity  Very High Risk          5.0       20.09       44.48         NaN  \n",
              "2   Equity  Very High Risk          5.0       11.02       44.22       21.49  \n",
              "3   Equity  Very High Risk          5.0       13.16       44.13         NaN  \n",
              "4   Equity  Very High Risk          5.0       17.43       43.88       23.76  "
            ],
            "text/html": [
              "\n",
              "  <div id=\"df-801fbc8b-8708-44b1-a9df-5cfba1c6b97a\">\n",
              "    <div class=\"colab-df-container\">\n",
              "      <div>\n",
              "<style scoped>\n",
              "    .dataframe tbody tr th:only-of-type {\n",
              "        vertical-align: middle;\n",
              "    }\n",
              "\n",
              "    .dataframe tbody tr th {\n",
              "        vertical-align: top;\n",
              "    }\n",
              "\n",
              "    .dataframe thead th {\n",
              "        text-align: right;\n",
              "    }\n",
              "</style>\n",
              "<table border=\"1\" class=\"dataframe\">\n",
              "  <thead>\n",
              "    <tr style=\"text-align: right;\">\n",
              "      <th></th>\n",
              "      <th>Unnamed: 0</th>\n",
              "      <th>AMC_name</th>\n",
              "      <th>Mutual Fund Name</th>\n",
              "      <th>category</th>\n",
              "      <th>risk_type</th>\n",
              "      <th>fund_rating</th>\n",
              "      <th>return_1yr</th>\n",
              "      <th>return_3yr</th>\n",
              "      <th>return_5yr</th>\n",
              "    </tr>\n",
              "  </thead>\n",
              "  <tbody>\n",
              "    <tr>\n",
              "      <th>0</th>\n",
              "      <td>0</td>\n",
              "      <td>Quant</td>\n",
              "      <td>Quant Small Cap Fund Direct Plan Growth</td>\n",
              "      <td>Equity</td>\n",
              "      <td>Very High Risk</td>\n",
              "      <td>4.0</td>\n",
              "      <td>9.98</td>\n",
              "      <td>54.37</td>\n",
              "      <td>22.73</td>\n",
              "    </tr>\n",
              "    <tr>\n",
              "      <th>1</th>\n",
              "      <td>1</td>\n",
              "      <td>Canara</td>\n",
              "      <td>Canara Robeco Small Cap Fund Direct Growth</td>\n",
              "      <td>Equity</td>\n",
              "      <td>Very High Risk</td>\n",
              "      <td>5.0</td>\n",
              "      <td>20.09</td>\n",
              "      <td>44.48</td>\n",
              "      <td>NaN</td>\n",
              "    </tr>\n",
              "    <tr>\n",
              "      <th>2</th>\n",
              "      <td>2</td>\n",
              "      <td>PGIM</td>\n",
              "      <td>PGIM India Midcap Opportunities Fund Direct Gr...</td>\n",
              "      <td>Equity</td>\n",
              "      <td>Very High Risk</td>\n",
              "      <td>5.0</td>\n",
              "      <td>11.02</td>\n",
              "      <td>44.22</td>\n",
              "      <td>21.49</td>\n",
              "    </tr>\n",
              "    <tr>\n",
              "      <th>3</th>\n",
              "      <td>3</td>\n",
              "      <td>Bank</td>\n",
              "      <td>Bank of India Small Cap Fund Direct Growth</td>\n",
              "      <td>Equity</td>\n",
              "      <td>Very High Risk</td>\n",
              "      <td>5.0</td>\n",
              "      <td>13.16</td>\n",
              "      <td>44.13</td>\n",
              "      <td>NaN</td>\n",
              "    </tr>\n",
              "    <tr>\n",
              "      <th>4</th>\n",
              "      <td>4</td>\n",
              "      <td>Quant</td>\n",
              "      <td>Quant Tax Plan Direct Growth</td>\n",
              "      <td>Equity</td>\n",
              "      <td>Very High Risk</td>\n",
              "      <td>5.0</td>\n",
              "      <td>17.43</td>\n",
              "      <td>43.88</td>\n",
              "      <td>23.76</td>\n",
              "    </tr>\n",
              "  </tbody>\n",
              "</table>\n",
              "</div>\n",
              "      <button class=\"colab-df-convert\" onclick=\"convertToInteractive('df-801fbc8b-8708-44b1-a9df-5cfba1c6b97a')\"\n",
              "              title=\"Convert this dataframe to an interactive table.\"\n",
              "              style=\"display:none;\">\n",
              "        \n",
              "  <svg xmlns=\"http://www.w3.org/2000/svg\" height=\"24px\"viewBox=\"0 0 24 24\"\n",
              "       width=\"24px\">\n",
              "    <path d=\"M0 0h24v24H0V0z\" fill=\"none\"/>\n",
              "    <path d=\"M18.56 5.44l.94 2.06.94-2.06 2.06-.94-2.06-.94-.94-2.06-.94 2.06-2.06.94zm-11 1L8.5 8.5l.94-2.06 2.06-.94-2.06-.94L8.5 2.5l-.94 2.06-2.06.94zm10 10l.94 2.06.94-2.06 2.06-.94-2.06-.94-.94-2.06-.94 2.06-2.06.94z\"/><path d=\"M17.41 7.96l-1.37-1.37c-.4-.4-.92-.59-1.43-.59-.52 0-1.04.2-1.43.59L10.3 9.45l-7.72 7.72c-.78.78-.78 2.05 0 2.83L4 21.41c.39.39.9.59 1.41.59.51 0 1.02-.2 1.41-.59l7.78-7.78 2.81-2.81c.8-.78.8-2.07 0-2.86zM5.41 20L4 18.59l7.72-7.72 1.47 1.35L5.41 20z\"/>\n",
              "  </svg>\n",
              "      </button>\n",
              "      \n",
              "  <style>\n",
              "    .colab-df-container {\n",
              "      display:flex;\n",
              "      flex-wrap:wrap;\n",
              "      gap: 12px;\n",
              "    }\n",
              "\n",
              "    .colab-df-convert {\n",
              "      background-color: #E8F0FE;\n",
              "      border: none;\n",
              "      border-radius: 50%;\n",
              "      cursor: pointer;\n",
              "      display: none;\n",
              "      fill: #1967D2;\n",
              "      height: 32px;\n",
              "      padding: 0 0 0 0;\n",
              "      width: 32px;\n",
              "    }\n",
              "\n",
              "    .colab-df-convert:hover {\n",
              "      background-color: #E2EBFA;\n",
              "      box-shadow: 0px 1px 2px rgba(60, 64, 67, 0.3), 0px 1px 3px 1px rgba(60, 64, 67, 0.15);\n",
              "      fill: #174EA6;\n",
              "    }\n",
              "\n",
              "    [theme=dark] .colab-df-convert {\n",
              "      background-color: #3B4455;\n",
              "      fill: #D2E3FC;\n",
              "    }\n",
              "\n",
              "    [theme=dark] .colab-df-convert:hover {\n",
              "      background-color: #434B5C;\n",
              "      box-shadow: 0px 1px 3px 1px rgba(0, 0, 0, 0.15);\n",
              "      filter: drop-shadow(0px 1px 2px rgba(0, 0, 0, 0.3));\n",
              "      fill: #FFFFFF;\n",
              "    }\n",
              "  </style>\n",
              "\n",
              "      <script>\n",
              "        const buttonEl =\n",
              "          document.querySelector('#df-801fbc8b-8708-44b1-a9df-5cfba1c6b97a button.colab-df-convert');\n",
              "        buttonEl.style.display =\n",
              "          google.colab.kernel.accessAllowed ? 'block' : 'none';\n",
              "\n",
              "        async function convertToInteractive(key) {\n",
              "          const element = document.querySelector('#df-801fbc8b-8708-44b1-a9df-5cfba1c6b97a');\n",
              "          const dataTable =\n",
              "            await google.colab.kernel.invokeFunction('convertToInteractive',\n",
              "                                                     [key], {});\n",
              "          if (!dataTable) return;\n",
              "\n",
              "          const docLinkHtml = 'Like what you see? Visit the ' +\n",
              "            '<a target=\"_blank\" href=https://colab.research.google.com/notebooks/data_table.ipynb>data table notebook</a>'\n",
              "            + ' to learn more about interactive tables.';\n",
              "          element.innerHTML = '';\n",
              "          dataTable['output_type'] = 'display_data';\n",
              "          await google.colab.output.renderOutput(dataTable, element);\n",
              "          const docLink = document.createElement('div');\n",
              "          docLink.innerHTML = docLinkHtml;\n",
              "          element.appendChild(docLink);\n",
              "        }\n",
              "      </script>\n",
              "    </div>\n",
              "  </div>\n",
              "  "
            ]
          },
          "metadata": {},
          "execution_count": 6
        }
      ],
      "source": [
        "df1.head()"
      ]
    },
    {
      "cell_type": "markdown",
      "metadata": {
        "id": "B3WnZ7xmN2To"
      },
      "source": [
        "Checking the data set for Null Values"
      ]
    },
    {
      "cell_type": "code",
      "execution_count": null,
      "metadata": {
        "colab": {
          "base_uri": "https://localhost:8080/"
        },
        "id": "0x45qnAbvbqo",
        "outputId": "0c6d7d1b-d1b2-4126-ae0f-7b8b59ef286c"
      },
      "outputs": [
        {
          "output_type": "execute_result",
          "data": {
            "text/plain": [
              "Unnamed: 0            0\n",
              "AMC_name              0\n",
              "Mutual Fund Name      0\n",
              "category              0\n",
              "risk_type             0\n",
              "fund_rating         347\n",
              "return_1yr          113\n",
              "return_3yr          259\n",
              "return_5yr          392\n",
              "dtype: int64"
            ]
          },
          "metadata": {},
          "execution_count": 7
        }
      ],
      "source": [
        "df1.isnull().sum()"
      ]
    },
    {
      "cell_type": "code",
      "execution_count": null,
      "metadata": {
        "colab": {
          "base_uri": "https://localhost:8080/"
        },
        "id": "9sUO1LW1L-si",
        "outputId": "36d07575-a996-4467-de59-408203ae63a5"
      },
      "outputs": [
        {
          "output_type": "stream",
          "name": "stdout",
          "text": [
            "<class 'pandas.core.frame.DataFrame'>\n",
            "RangeIndex: 1088 entries, 0 to 1087\n",
            "Data columns (total 9 columns):\n",
            " #   Column            Non-Null Count  Dtype  \n",
            "---  ------            --------------  -----  \n",
            " 0   Unnamed: 0        1088 non-null   int64  \n",
            " 1   AMC_name          1088 non-null   object \n",
            " 2   Mutual Fund Name  1088 non-null   object \n",
            " 3   category          1088 non-null   object \n",
            " 4   risk_type         1088 non-null   object \n",
            " 5   fund_rating       741 non-null    float64\n",
            " 6   return_1yr        975 non-null    float64\n",
            " 7   return_3yr        829 non-null    float64\n",
            " 8   return_5yr        696 non-null    float64\n",
            "dtypes: float64(4), int64(1), object(4)\n",
            "memory usage: 76.6+ KB\n"
          ]
        }
      ],
      "source": [
        "df1.info()"
      ]
    },
    {
      "cell_type": "code",
      "execution_count": null,
      "metadata": {
        "colab": {
          "base_uri": "https://localhost:8080/",
          "height": 300
        },
        "id": "WLNNY2ctMV9K",
        "outputId": "61ac2907-6254-41ec-e00d-38d654cc96fb"
      },
      "outputs": [
        {
          "output_type": "execute_result",
          "data": {
            "text/plain": [
              "        Unnamed: 0  fund_rating  return_1yr  return_3yr  return_5yr\n",
              "count  1088.000000   741.000000  975.000000  829.000000  696.000000\n",
              "mean    543.500000     3.066127    4.208585   13.563679    9.541135\n",
              "std     314.222851     1.102675    8.208132    9.016110    4.366601\n",
              "min       0.000000     1.000000  -39.000000   -9.240000   -2.950000\n",
              "25%     271.750000     2.000000    2.155000    5.650000    6.300000\n",
              "50%     543.500000     3.000000    3.750000   11.750000    8.650000\n",
              "75%     815.250000     4.000000    5.640000   19.760000   12.790000\n",
              "max    1087.000000     5.000000   78.290000   54.370000   28.910000"
            ],
            "text/html": [
              "\n",
              "  <div id=\"df-c8f32d69-0136-4af4-8043-c9a89612d5b7\">\n",
              "    <div class=\"colab-df-container\">\n",
              "      <div>\n",
              "<style scoped>\n",
              "    .dataframe tbody tr th:only-of-type {\n",
              "        vertical-align: middle;\n",
              "    }\n",
              "\n",
              "    .dataframe tbody tr th {\n",
              "        vertical-align: top;\n",
              "    }\n",
              "\n",
              "    .dataframe thead th {\n",
              "        text-align: right;\n",
              "    }\n",
              "</style>\n",
              "<table border=\"1\" class=\"dataframe\">\n",
              "  <thead>\n",
              "    <tr style=\"text-align: right;\">\n",
              "      <th></th>\n",
              "      <th>Unnamed: 0</th>\n",
              "      <th>fund_rating</th>\n",
              "      <th>return_1yr</th>\n",
              "      <th>return_3yr</th>\n",
              "      <th>return_5yr</th>\n",
              "    </tr>\n",
              "  </thead>\n",
              "  <tbody>\n",
              "    <tr>\n",
              "      <th>count</th>\n",
              "      <td>1088.000000</td>\n",
              "      <td>741.000000</td>\n",
              "      <td>975.000000</td>\n",
              "      <td>829.000000</td>\n",
              "      <td>696.000000</td>\n",
              "    </tr>\n",
              "    <tr>\n",
              "      <th>mean</th>\n",
              "      <td>543.500000</td>\n",
              "      <td>3.066127</td>\n",
              "      <td>4.208585</td>\n",
              "      <td>13.563679</td>\n",
              "      <td>9.541135</td>\n",
              "    </tr>\n",
              "    <tr>\n",
              "      <th>std</th>\n",
              "      <td>314.222851</td>\n",
              "      <td>1.102675</td>\n",
              "      <td>8.208132</td>\n",
              "      <td>9.016110</td>\n",
              "      <td>4.366601</td>\n",
              "    </tr>\n",
              "    <tr>\n",
              "      <th>min</th>\n",
              "      <td>0.000000</td>\n",
              "      <td>1.000000</td>\n",
              "      <td>-39.000000</td>\n",
              "      <td>-9.240000</td>\n",
              "      <td>-2.950000</td>\n",
              "    </tr>\n",
              "    <tr>\n",
              "      <th>25%</th>\n",
              "      <td>271.750000</td>\n",
              "      <td>2.000000</td>\n",
              "      <td>2.155000</td>\n",
              "      <td>5.650000</td>\n",
              "      <td>6.300000</td>\n",
              "    </tr>\n",
              "    <tr>\n",
              "      <th>50%</th>\n",
              "      <td>543.500000</td>\n",
              "      <td>3.000000</td>\n",
              "      <td>3.750000</td>\n",
              "      <td>11.750000</td>\n",
              "      <td>8.650000</td>\n",
              "    </tr>\n",
              "    <tr>\n",
              "      <th>75%</th>\n",
              "      <td>815.250000</td>\n",
              "      <td>4.000000</td>\n",
              "      <td>5.640000</td>\n",
              "      <td>19.760000</td>\n",
              "      <td>12.790000</td>\n",
              "    </tr>\n",
              "    <tr>\n",
              "      <th>max</th>\n",
              "      <td>1087.000000</td>\n",
              "      <td>5.000000</td>\n",
              "      <td>78.290000</td>\n",
              "      <td>54.370000</td>\n",
              "      <td>28.910000</td>\n",
              "    </tr>\n",
              "  </tbody>\n",
              "</table>\n",
              "</div>\n",
              "      <button class=\"colab-df-convert\" onclick=\"convertToInteractive('df-c8f32d69-0136-4af4-8043-c9a89612d5b7')\"\n",
              "              title=\"Convert this dataframe to an interactive table.\"\n",
              "              style=\"display:none;\">\n",
              "        \n",
              "  <svg xmlns=\"http://www.w3.org/2000/svg\" height=\"24px\"viewBox=\"0 0 24 24\"\n",
              "       width=\"24px\">\n",
              "    <path d=\"M0 0h24v24H0V0z\" fill=\"none\"/>\n",
              "    <path d=\"M18.56 5.44l.94 2.06.94-2.06 2.06-.94-2.06-.94-.94-2.06-.94 2.06-2.06.94zm-11 1L8.5 8.5l.94-2.06 2.06-.94-2.06-.94L8.5 2.5l-.94 2.06-2.06.94zm10 10l.94 2.06.94-2.06 2.06-.94-2.06-.94-.94-2.06-.94 2.06-2.06.94z\"/><path d=\"M17.41 7.96l-1.37-1.37c-.4-.4-.92-.59-1.43-.59-.52 0-1.04.2-1.43.59L10.3 9.45l-7.72 7.72c-.78.78-.78 2.05 0 2.83L4 21.41c.39.39.9.59 1.41.59.51 0 1.02-.2 1.41-.59l7.78-7.78 2.81-2.81c.8-.78.8-2.07 0-2.86zM5.41 20L4 18.59l7.72-7.72 1.47 1.35L5.41 20z\"/>\n",
              "  </svg>\n",
              "      </button>\n",
              "      \n",
              "  <style>\n",
              "    .colab-df-container {\n",
              "      display:flex;\n",
              "      flex-wrap:wrap;\n",
              "      gap: 12px;\n",
              "    }\n",
              "\n",
              "    .colab-df-convert {\n",
              "      background-color: #E8F0FE;\n",
              "      border: none;\n",
              "      border-radius: 50%;\n",
              "      cursor: pointer;\n",
              "      display: none;\n",
              "      fill: #1967D2;\n",
              "      height: 32px;\n",
              "      padding: 0 0 0 0;\n",
              "      width: 32px;\n",
              "    }\n",
              "\n",
              "    .colab-df-convert:hover {\n",
              "      background-color: #E2EBFA;\n",
              "      box-shadow: 0px 1px 2px rgba(60, 64, 67, 0.3), 0px 1px 3px 1px rgba(60, 64, 67, 0.15);\n",
              "      fill: #174EA6;\n",
              "    }\n",
              "\n",
              "    [theme=dark] .colab-df-convert {\n",
              "      background-color: #3B4455;\n",
              "      fill: #D2E3FC;\n",
              "    }\n",
              "\n",
              "    [theme=dark] .colab-df-convert:hover {\n",
              "      background-color: #434B5C;\n",
              "      box-shadow: 0px 1px 3px 1px rgba(0, 0, 0, 0.15);\n",
              "      filter: drop-shadow(0px 1px 2px rgba(0, 0, 0, 0.3));\n",
              "      fill: #FFFFFF;\n",
              "    }\n",
              "  </style>\n",
              "\n",
              "      <script>\n",
              "        const buttonEl =\n",
              "          document.querySelector('#df-c8f32d69-0136-4af4-8043-c9a89612d5b7 button.colab-df-convert');\n",
              "        buttonEl.style.display =\n",
              "          google.colab.kernel.accessAllowed ? 'block' : 'none';\n",
              "\n",
              "        async function convertToInteractive(key) {\n",
              "          const element = document.querySelector('#df-c8f32d69-0136-4af4-8043-c9a89612d5b7');\n",
              "          const dataTable =\n",
              "            await google.colab.kernel.invokeFunction('convertToInteractive',\n",
              "                                                     [key], {});\n",
              "          if (!dataTable) return;\n",
              "\n",
              "          const docLinkHtml = 'Like what you see? Visit the ' +\n",
              "            '<a target=\"_blank\" href=https://colab.research.google.com/notebooks/data_table.ipynb>data table notebook</a>'\n",
              "            + ' to learn more about interactive tables.';\n",
              "          element.innerHTML = '';\n",
              "          dataTable['output_type'] = 'display_data';\n",
              "          await google.colab.output.renderOutput(dataTable, element);\n",
              "          const docLink = document.createElement('div');\n",
              "          docLink.innerHTML = docLinkHtml;\n",
              "          element.appendChild(docLink);\n",
              "        }\n",
              "      </script>\n",
              "    </div>\n",
              "  </div>\n",
              "  "
            ]
          },
          "metadata": {},
          "execution_count": 9
        }
      ],
      "source": [
        "df1.describe()"
      ]
    },
    {
      "cell_type": "code",
      "execution_count": null,
      "metadata": {
        "colab": {
          "base_uri": "https://localhost:8080/"
        },
        "id": "SN-0gE9uM0Ln",
        "outputId": "3fdc24f6-ffdf-43f0-fb7f-0e7fc8e96547"
      },
      "outputs": [
        {
          "output_type": "execute_result",
          "data": {
            "text/plain": [
              "Unnamed: 0            int64\n",
              "AMC_name             object\n",
              "Mutual Fund Name     object\n",
              "category             object\n",
              "risk_type            object\n",
              "fund_rating         float64\n",
              "return_1yr          float64\n",
              "return_3yr          float64\n",
              "return_5yr          float64\n",
              "dtype: object"
            ]
          },
          "metadata": {},
          "execution_count": 10
        }
      ],
      "source": [
        "df1.dtypes"
      ]
    },
    {
      "cell_type": "code",
      "execution_count": null,
      "metadata": {
        "colab": {
          "base_uri": "https://localhost:8080/"
        },
        "id": "XjGwdt2YRCYq",
        "outputId": "82714511-2606-4159-8188-c09ab059fda9"
      },
      "outputs": [
        {
          "output_type": "execute_result",
          "data": {
            "text/plain": [
              "0          0\n",
              "1          1\n",
              "2          2\n",
              "3          3\n",
              "4          4\n",
              "        ... \n",
              "1083    1083\n",
              "1084    1084\n",
              "1085    1085\n",
              "1086    1086\n",
              "1087    1087\n",
              "Name: Unnamed: 0, Length: 1088, dtype: int64"
            ]
          },
          "metadata": {},
          "execution_count": 11
        }
      ],
      "source": [
        "df1[\"Unnamed: 0\"]"
      ]
    },
    {
      "cell_type": "code",
      "execution_count": null,
      "metadata": {
        "colab": {
          "base_uri": "https://localhost:8080/"
        },
        "id": "pnntS47ETRQg",
        "outputId": "30a7fa10-e988-44f4-e3ba-95173afd28ee"
      },
      "outputs": [
        {
          "output_type": "stream",
          "name": "stdout",
          "text": [
            "<class 'pandas.core.frame.DataFrame'>\n",
            "RangeIndex: 1088 entries, 0 to 1087\n",
            "Data columns (total 9 columns):\n",
            " #   Column            Non-Null Count  Dtype  \n",
            "---  ------            --------------  -----  \n",
            " 0   Unnamed: 0        1088 non-null   int64  \n",
            " 1   AMC_name          1088 non-null   object \n",
            " 2   Mutual Fund Name  1088 non-null   object \n",
            " 3   category          1088 non-null   object \n",
            " 4   risk_type         1088 non-null   object \n",
            " 5   fund_rating       741 non-null    float64\n",
            " 6   return_1yr        975 non-null    float64\n",
            " 7   return_3yr        829 non-null    float64\n",
            " 8   return_5yr        696 non-null    float64\n",
            "dtypes: float64(4), int64(1), object(4)\n",
            "memory usage: 76.6+ KB\n"
          ]
        }
      ],
      "source": [
        "df1.info()"
      ]
    },
    {
      "cell_type": "code",
      "execution_count": null,
      "metadata": {
        "id": "4rFIkad7Au9F"
      },
      "outputs": [],
      "source": [
        "df1.rename(columns={'Unnamed: 0':'Index'},inplace=True)\n"
      ]
    },
    {
      "cell_type": "code",
      "execution_count": null,
      "metadata": {
        "id": "KILzlfgxBqCT"
      },
      "outputs": [],
      "source": [
        "df1.set_index(\"Index\",inplace=True)"
      ]
    },
    {
      "cell_type": "code",
      "execution_count": null,
      "metadata": {
        "colab": {
          "base_uri": "https://localhost:8080/",
          "height": 455
        },
        "id": "gvmTBL7iTM2B",
        "outputId": "dd018394-6cae-4a7c-9de9-5cdfb941a283"
      },
      "outputs": [
        {
          "output_type": "execute_result",
          "data": {
            "text/plain": [
              "       AMC_name                                   Mutual Fund Name category  \\\n",
              "Index                                                                         \n",
              "0         Quant            Quant Small Cap Fund Direct Plan Growth   Equity   \n",
              "1        Canara         Canara Robeco Small Cap Fund Direct Growth   Equity   \n",
              "2          PGIM  PGIM India Midcap Opportunities Fund Direct Gr...   Equity   \n",
              "3          Bank         Bank of India Small Cap Fund Direct Growth   Equity   \n",
              "4         Quant                       Quant Tax Plan Direct Growth   Equity   \n",
              "...         ...                                                ...      ...   \n",
              "1083   Sundaram       Sundaram Ultra Short Term Fund Direct Growth     Debt   \n",
              "1084        BNP           BNP Paribas Overnight Fund Direct Growth     Debt   \n",
              "1085    Invesco         Invesco India Overnight Fund Direct Growth     Debt   \n",
              "1086       HSBC       HSBC Ultra Short Duration Fund Direct Growth     Debt   \n",
              "1087        ITI                   ITI Overnight Fund Direct Growth     Debt   \n",
              "\n",
              "                  risk_type  fund_rating  return_1yr  return_3yr  return_5yr  \n",
              "Index                                                                         \n",
              "0            Very High Risk          4.0        9.98       54.37       22.73  \n",
              "1            Very High Risk          5.0       20.09       44.48         NaN  \n",
              "2            Very High Risk          5.0       11.02       44.22       21.49  \n",
              "3            Very High Risk          5.0       13.16       44.13         NaN  \n",
              "4            Very High Risk          5.0       17.43       43.88       23.76  \n",
              "...                     ...          ...         ...         ...         ...  \n",
              "1083          Moderate Risk          3.0        3.69         NaN         NaN  \n",
              "1084               Low Risk          3.0        3.25         NaN         NaN  \n",
              "1085               Low Risk          2.0        3.84         NaN         NaN  \n",
              "1086   Low to Moderate Risk          3.0        3.96         NaN         NaN  \n",
              "1087               Low Risk          1.0        3.78         NaN         NaN  \n",
              "\n",
              "[1088 rows x 8 columns]"
            ],
            "text/html": [
              "\n",
              "  <div id=\"df-4d70fa91-0d13-49aa-8104-ef41c91deacc\">\n",
              "    <div class=\"colab-df-container\">\n",
              "      <div>\n",
              "<style scoped>\n",
              "    .dataframe tbody tr th:only-of-type {\n",
              "        vertical-align: middle;\n",
              "    }\n",
              "\n",
              "    .dataframe tbody tr th {\n",
              "        vertical-align: top;\n",
              "    }\n",
              "\n",
              "    .dataframe thead th {\n",
              "        text-align: right;\n",
              "    }\n",
              "</style>\n",
              "<table border=\"1\" class=\"dataframe\">\n",
              "  <thead>\n",
              "    <tr style=\"text-align: right;\">\n",
              "      <th></th>\n",
              "      <th>AMC_name</th>\n",
              "      <th>Mutual Fund Name</th>\n",
              "      <th>category</th>\n",
              "      <th>risk_type</th>\n",
              "      <th>fund_rating</th>\n",
              "      <th>return_1yr</th>\n",
              "      <th>return_3yr</th>\n",
              "      <th>return_5yr</th>\n",
              "    </tr>\n",
              "    <tr>\n",
              "      <th>Index</th>\n",
              "      <th></th>\n",
              "      <th></th>\n",
              "      <th></th>\n",
              "      <th></th>\n",
              "      <th></th>\n",
              "      <th></th>\n",
              "      <th></th>\n",
              "      <th></th>\n",
              "    </tr>\n",
              "  </thead>\n",
              "  <tbody>\n",
              "    <tr>\n",
              "      <th>0</th>\n",
              "      <td>Quant</td>\n",
              "      <td>Quant Small Cap Fund Direct Plan Growth</td>\n",
              "      <td>Equity</td>\n",
              "      <td>Very High Risk</td>\n",
              "      <td>4.0</td>\n",
              "      <td>9.98</td>\n",
              "      <td>54.37</td>\n",
              "      <td>22.73</td>\n",
              "    </tr>\n",
              "    <tr>\n",
              "      <th>1</th>\n",
              "      <td>Canara</td>\n",
              "      <td>Canara Robeco Small Cap Fund Direct Growth</td>\n",
              "      <td>Equity</td>\n",
              "      <td>Very High Risk</td>\n",
              "      <td>5.0</td>\n",
              "      <td>20.09</td>\n",
              "      <td>44.48</td>\n",
              "      <td>NaN</td>\n",
              "    </tr>\n",
              "    <tr>\n",
              "      <th>2</th>\n",
              "      <td>PGIM</td>\n",
              "      <td>PGIM India Midcap Opportunities Fund Direct Gr...</td>\n",
              "      <td>Equity</td>\n",
              "      <td>Very High Risk</td>\n",
              "      <td>5.0</td>\n",
              "      <td>11.02</td>\n",
              "      <td>44.22</td>\n",
              "      <td>21.49</td>\n",
              "    </tr>\n",
              "    <tr>\n",
              "      <th>3</th>\n",
              "      <td>Bank</td>\n",
              "      <td>Bank of India Small Cap Fund Direct Growth</td>\n",
              "      <td>Equity</td>\n",
              "      <td>Very High Risk</td>\n",
              "      <td>5.0</td>\n",
              "      <td>13.16</td>\n",
              "      <td>44.13</td>\n",
              "      <td>NaN</td>\n",
              "    </tr>\n",
              "    <tr>\n",
              "      <th>4</th>\n",
              "      <td>Quant</td>\n",
              "      <td>Quant Tax Plan Direct Growth</td>\n",
              "      <td>Equity</td>\n",
              "      <td>Very High Risk</td>\n",
              "      <td>5.0</td>\n",
              "      <td>17.43</td>\n",
              "      <td>43.88</td>\n",
              "      <td>23.76</td>\n",
              "    </tr>\n",
              "    <tr>\n",
              "      <th>...</th>\n",
              "      <td>...</td>\n",
              "      <td>...</td>\n",
              "      <td>...</td>\n",
              "      <td>...</td>\n",
              "      <td>...</td>\n",
              "      <td>...</td>\n",
              "      <td>...</td>\n",
              "      <td>...</td>\n",
              "    </tr>\n",
              "    <tr>\n",
              "      <th>1083</th>\n",
              "      <td>Sundaram</td>\n",
              "      <td>Sundaram Ultra Short Term Fund Direct Growth</td>\n",
              "      <td>Debt</td>\n",
              "      <td>Moderate Risk</td>\n",
              "      <td>3.0</td>\n",
              "      <td>3.69</td>\n",
              "      <td>NaN</td>\n",
              "      <td>NaN</td>\n",
              "    </tr>\n",
              "    <tr>\n",
              "      <th>1084</th>\n",
              "      <td>BNP</td>\n",
              "      <td>BNP Paribas Overnight Fund Direct Growth</td>\n",
              "      <td>Debt</td>\n",
              "      <td>Low Risk</td>\n",
              "      <td>3.0</td>\n",
              "      <td>3.25</td>\n",
              "      <td>NaN</td>\n",
              "      <td>NaN</td>\n",
              "    </tr>\n",
              "    <tr>\n",
              "      <th>1085</th>\n",
              "      <td>Invesco</td>\n",
              "      <td>Invesco India Overnight Fund Direct Growth</td>\n",
              "      <td>Debt</td>\n",
              "      <td>Low Risk</td>\n",
              "      <td>2.0</td>\n",
              "      <td>3.84</td>\n",
              "      <td>NaN</td>\n",
              "      <td>NaN</td>\n",
              "    </tr>\n",
              "    <tr>\n",
              "      <th>1086</th>\n",
              "      <td>HSBC</td>\n",
              "      <td>HSBC Ultra Short Duration Fund Direct Growth</td>\n",
              "      <td>Debt</td>\n",
              "      <td>Low to Moderate Risk</td>\n",
              "      <td>3.0</td>\n",
              "      <td>3.96</td>\n",
              "      <td>NaN</td>\n",
              "      <td>NaN</td>\n",
              "    </tr>\n",
              "    <tr>\n",
              "      <th>1087</th>\n",
              "      <td>ITI</td>\n",
              "      <td>ITI Overnight Fund Direct Growth</td>\n",
              "      <td>Debt</td>\n",
              "      <td>Low Risk</td>\n",
              "      <td>1.0</td>\n",
              "      <td>3.78</td>\n",
              "      <td>NaN</td>\n",
              "      <td>NaN</td>\n",
              "    </tr>\n",
              "  </tbody>\n",
              "</table>\n",
              "<p>1088 rows × 8 columns</p>\n",
              "</div>\n",
              "      <button class=\"colab-df-convert\" onclick=\"convertToInteractive('df-4d70fa91-0d13-49aa-8104-ef41c91deacc')\"\n",
              "              title=\"Convert this dataframe to an interactive table.\"\n",
              "              style=\"display:none;\">\n",
              "        \n",
              "  <svg xmlns=\"http://www.w3.org/2000/svg\" height=\"24px\"viewBox=\"0 0 24 24\"\n",
              "       width=\"24px\">\n",
              "    <path d=\"M0 0h24v24H0V0z\" fill=\"none\"/>\n",
              "    <path d=\"M18.56 5.44l.94 2.06.94-2.06 2.06-.94-2.06-.94-.94-2.06-.94 2.06-2.06.94zm-11 1L8.5 8.5l.94-2.06 2.06-.94-2.06-.94L8.5 2.5l-.94 2.06-2.06.94zm10 10l.94 2.06.94-2.06 2.06-.94-2.06-.94-.94-2.06-.94 2.06-2.06.94z\"/><path d=\"M17.41 7.96l-1.37-1.37c-.4-.4-.92-.59-1.43-.59-.52 0-1.04.2-1.43.59L10.3 9.45l-7.72 7.72c-.78.78-.78 2.05 0 2.83L4 21.41c.39.39.9.59 1.41.59.51 0 1.02-.2 1.41-.59l7.78-7.78 2.81-2.81c.8-.78.8-2.07 0-2.86zM5.41 20L4 18.59l7.72-7.72 1.47 1.35L5.41 20z\"/>\n",
              "  </svg>\n",
              "      </button>\n",
              "      \n",
              "  <style>\n",
              "    .colab-df-container {\n",
              "      display:flex;\n",
              "      flex-wrap:wrap;\n",
              "      gap: 12px;\n",
              "    }\n",
              "\n",
              "    .colab-df-convert {\n",
              "      background-color: #E8F0FE;\n",
              "      border: none;\n",
              "      border-radius: 50%;\n",
              "      cursor: pointer;\n",
              "      display: none;\n",
              "      fill: #1967D2;\n",
              "      height: 32px;\n",
              "      padding: 0 0 0 0;\n",
              "      width: 32px;\n",
              "    }\n",
              "\n",
              "    .colab-df-convert:hover {\n",
              "      background-color: #E2EBFA;\n",
              "      box-shadow: 0px 1px 2px rgba(60, 64, 67, 0.3), 0px 1px 3px 1px rgba(60, 64, 67, 0.15);\n",
              "      fill: #174EA6;\n",
              "    }\n",
              "\n",
              "    [theme=dark] .colab-df-convert {\n",
              "      background-color: #3B4455;\n",
              "      fill: #D2E3FC;\n",
              "    }\n",
              "\n",
              "    [theme=dark] .colab-df-convert:hover {\n",
              "      background-color: #434B5C;\n",
              "      box-shadow: 0px 1px 3px 1px rgba(0, 0, 0, 0.15);\n",
              "      filter: drop-shadow(0px 1px 2px rgba(0, 0, 0, 0.3));\n",
              "      fill: #FFFFFF;\n",
              "    }\n",
              "  </style>\n",
              "\n",
              "      <script>\n",
              "        const buttonEl =\n",
              "          document.querySelector('#df-4d70fa91-0d13-49aa-8104-ef41c91deacc button.colab-df-convert');\n",
              "        buttonEl.style.display =\n",
              "          google.colab.kernel.accessAllowed ? 'block' : 'none';\n",
              "\n",
              "        async function convertToInteractive(key) {\n",
              "          const element = document.querySelector('#df-4d70fa91-0d13-49aa-8104-ef41c91deacc');\n",
              "          const dataTable =\n",
              "            await google.colab.kernel.invokeFunction('convertToInteractive',\n",
              "                                                     [key], {});\n",
              "          if (!dataTable) return;\n",
              "\n",
              "          const docLinkHtml = 'Like what you see? Visit the ' +\n",
              "            '<a target=\"_blank\" href=https://colab.research.google.com/notebooks/data_table.ipynb>data table notebook</a>'\n",
              "            + ' to learn more about interactive tables.';\n",
              "          element.innerHTML = '';\n",
              "          dataTable['output_type'] = 'display_data';\n",
              "          await google.colab.output.renderOutput(dataTable, element);\n",
              "          const docLink = document.createElement('div');\n",
              "          docLink.innerHTML = docLinkHtml;\n",
              "          element.appendChild(docLink);\n",
              "        }\n",
              "      </script>\n",
              "    </div>\n",
              "  </div>\n",
              "  "
            ]
          },
          "metadata": {},
          "execution_count": 15
        }
      ],
      "source": [
        "df1"
      ]
    },
    {
      "cell_type": "markdown",
      "metadata": {
        "id": "yhq-oYNDIpdU"
      },
      "source": [
        "Top 10 AMC Names with most number of mutual funds"
      ]
    },
    {
      "cell_type": "code",
      "execution_count": null,
      "metadata": {
        "colab": {
          "base_uri": "https://localhost:8080/",
          "height": 345
        },
        "id": "9FXFToJNUVqT",
        "outputId": "18394d76-b11f-4fdf-fc18-4fda4b11eae1"
      },
      "outputs": [
        {
          "output_type": "display_data",
          "data": {
            "text/plain": [
              "<Figure size 720x360 with 1 Axes>"
            ],
            "image/png": "[encoded data removed]"
          },
          "metadata": {
            "needs_background": "light"
          }
        }
      ],
      "source": [
        "a=df1[\"AMC_name\"].value_counts()[:10].plot(kind='bar',figsize=(10,5))\n"
      ]
    },
    {
      "cell_type": "code",
      "execution_count": null,
      "metadata": {
        "colab": {
          "base_uri": "https://localhost:8080/"
        },
        "id": "48s8_PoB_HzJ",
        "outputId": "2f454709-2870-484e-b220-990ab7fd33d5"
      },
      "outputs": [
        {
          "output_type": "execute_result",
          "data": {
            "text/plain": [
              "Equity               380\n",
              "Debt                 332\n",
              "Other                214\n",
              "Hybrid               137\n",
              "Solution Oriented     25\n",
              "Name: category, dtype: int64"
            ]
          },
          "metadata": {},
          "execution_count": 17
        }
      ],
      "source": [
        "df1[\"category\"].value_counts()"
      ]
    },
    {
      "cell_type": "code",
      "execution_count": null,
      "metadata": {
        "colab": {
          "base_uri": "https://localhost:8080/"
        },
        "id": "VOlzlQkgCR48",
        "outputId": "9623230f-dac4-4403-aa47-fd957932177d"
      },
      "outputs": [
        {
          "output_type": "execute_result",
          "data": {
            "text/plain": [
              "Very High Risk          571\n",
              "Moderate Risk           157\n",
              "Low to Moderate Risk    155\n",
              "Moderately High Risk     94\n",
              "Low Risk                 61\n",
              "High Risk                42\n",
              "Moderately Low Risk       8\n",
              "Name: risk_type, dtype: int64"
            ]
          },
          "metadata": {},
          "execution_count": 18
        }
      ],
      "source": [
        "df1[\"risk_type\"].value_counts()"
      ]
    },
    {
      "cell_type": "code",
      "execution_count": null,
      "metadata": {
        "colab": {
          "base_uri": "https://localhost:8080/",
          "height": 442
        },
        "id": "BTTikliBC3uR",
        "outputId": "ca261641-e0a0-49c6-d484-7eff2e210b52"
      },
      "outputs": [
        {
          "output_type": "display_data",
          "data": {
            "text/plain": [
              "<Figure size 864x504 with 1 Axes>"
            ],
            "image/png": "[encoded data removed]"
          },
          "metadata": {
            "needs_background": "light"
          }
        }
      ],
      "source": [
        "plt.figure(figsize=(12,7))\n",
        "g=sns.countplot(x=df1[\"category\"],hue=df1[\"risk_type\"])\n",
        "for i in g.containers:\n",
        "  g.bar_label(i)\n",
        "plt.show()"
      ]
    }
  ],
  "metadata": {
    "colab": {
      "provenance": []
    },
    "kernelspec": {
      "display_name": "Python 3",
      "name": "python3"
    },
    "language_info": {
      "name": "python"
    }
  },
  "nbformat": 4,
  "nbformat_minor": 0
}