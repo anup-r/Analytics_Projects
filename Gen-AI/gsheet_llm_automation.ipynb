{
  "nbformat": 4,
  "nbformat_minor": 0,
  "metadata": {
    "colab": {
      "provenance": []
    },
    "kernelspec": {
      "name": "python3",
      "display_name": "Python 3"
    },
    "language_info": {
      "name": "python"
    }
  },
  "cells": [
    {
      "cell_type": "code",
      "execution_count": null,
      "metadata": {
        "colab": {
          "base_uri": "https://localhost:8080/"
        },
        "id": "YmmkG2W9S_bC",
        "outputId": "970d07cb-8afa-443f-9bf4-4dc52d790035"
      },
      "outputs": [
        {
          "output_type": "stream",
          "name": "stdout",
          "text": [
            "\u001b[2K     \u001b[90m━━━━━━━━━━━━━━━━━━━━━━━━━━━━━━━━━━━━━━━\u001b[0m \u001b[32m44.3/44.3 kB\u001b[0m \u001b[31m405.1 kB/s\u001b[0m eta \u001b[36m0:00:00\u001b[0m\n",
            "\u001b[2K   \u001b[90m━━━━━━━━━━━━━━━━━━━━━━━━━━━━━━━━━━━━━━━━\u001b[0m \u001b[32m10.1/10.1 MB\u001b[0m \u001b[31m44.7 MB/s\u001b[0m eta \u001b[36m0:00:00\u001b[0m\n",
            "\u001b[2K   \u001b[90m━━━━━━━━━━━━━━━━━━━━━━━━━━━━━━━━━━━━━━━━\u001b[0m \u001b[32m6.9/6.9 MB\u001b[0m \u001b[31m55.2 MB/s\u001b[0m eta \u001b[36m0:00:00\u001b[0m\n",
            "\u001b[2K   \u001b[90m━━━━━━━━━━━━━━━━━━━━━━━━━━━━━━━━━━━━━━━━\u001b[0m \u001b[32m79.1/79.1 kB\u001b[0m \u001b[31m4.8 MB/s\u001b[0m eta \u001b[36m0:00:00\u001b[0m\n",
            "\u001b[?25h"
          ]
        }
      ],
      "source": [
        " !pip install -q google-generativeai pandas streamlit gspread oauth2client"
      ]
    },
    {
      "cell_type": "code",
      "source": [
        "from google.colab import drive\n",
        "drive.mount('/content/drive')"
      ],
      "metadata": {
        "colab": {
          "base_uri": "https://localhost:8080/"
        },
        "id": "hKT6BjksTNez",
        "outputId": "e8bb40a1-9970-4f7e-84e1-6e74e0ee6d11"
      },
      "execution_count": null,
      "outputs": [
        {
          "output_type": "stream",
          "name": "stdout",
          "text": [
            "Mounted at /content/drive\n"
          ]
        }
      ]
    },
    {
      "cell_type": "code",
      "source": [
        "# After drive.mount() is successful\n",
        "service_account_path = '/content/drive/MyDrive/GCP Projects/service-account-key.json'\n",
        "import gspread\n",
        "gc = gspread.service_account(filename=service_account_path)\n",
        "print(\"gspread authenticated via Service Account JSON from Drive.\")"
      ],
      "metadata": {
        "colab": {
          "base_uri": "https://localhost:8080/"
        },
        "id": "zGuBIWwfT6I0",
        "outputId": "2210ac23-3a17-42d8-d323-bed7a9a86606"
      },
      "execution_count": null,
      "outputs": [
        {
          "output_type": "stream",
          "name": "stdout",
          "text": [
            "gspread authenticated via Service Account JSON from Drive.\n"
          ]
        }
      ]
    },
    {
      "cell_type": "code",
      "source": [
        "# Cell 3: Read Google Sheet Structure and Data (after API key setup)\n",
        "\n",
        "import gspread\n",
        "from google.colab import userdata\n",
        "import json\n",
        "import os # Needed for os.getenv if you use that for service account key path\n",
        "\n",
        "# --- Authentication (choose the one you set up) ---\n",
        "# Option A: From file on Drive (if drive is mounted AND path is correct)\n",
        "service_account_path = '/content/drive/MyDrive/GCP Projects/service-account-key.json' # REPLACE with your actual path\n",
        "gc = gspread.service_account(filename=service_account_path)\n",
        "\n",
        "# Option B: From Colab Secret (Recommended and more robust for Colab)\n",
        "# sa_json_str = userdata.get(\"GSHEETS_SERVICE_ACCOUNT_JSON\")\n",
        "# if not sa_json_str:\n",
        "#     raise ValueError(\"GSHEETS_SERVICE_ACCOUNT_JSON secret not found. Please add it to Colab Secrets.\")\n",
        "# sa_creds = json.loads(sa_json_str) # Load JSON string into dictionary\n",
        "# gc = gspread.service_account_from_dict(sa_creds)\n",
        "\n",
        "# print(\"gspread authenticated successfully.\")\n",
        "\n",
        "# --- Specify your Spreadsheet ---\n",
        "# You can use the full URL or just the Spreadsheet ID\n",
        "# spreadsheet_url = \"https://docs.google.com/spreadsheets/d/YOUR_SPREADSHEET_ID_HERE/edit#gid=0\"\n",
        "# spreadsheet_id = \"YOUR_SPREADSHEET_ID_HERE\" # Get this from the URL: https://docs.google.com/spreadsheets/d/THIS_IS_THE_ID/edit#gid=0\n",
        "\n",
        "# For simplicity, let's use the name of the spreadsheet you created in Step 5\n",
        "spreadsheet_name = \"Project Trial -1\" # Make sure this is the exact name!\n",
        "\n",
        "try:\n",
        "    spreadsheet = gc.open(spreadsheet_name)\n",
        "    print(f\"Successfully opened spreadsheet: {spreadsheet_name}\")\n",
        "except gspread.exceptions.SpreadsheetNotFound:\n",
        "    print(f\"Error: Spreadsheet '{spreadsheet_name}' not found. Please check the name and ensure your service account has Editor access.\")\n",
        "    raise # Re-raise the exception to stop execution\n",
        "\n",
        "# --- Get Dashboard Template Layout ---\n",
        "dashboard_template_sheet_name = \"Template\"\n",
        "try:\n",
        "    dashboard_template_sheet = spreadsheet.worksheet(dashboard_template_sheet_name)\n",
        "    # Read all values, including empty cells, to preserve layout structure\n",
        "    dashboard_layout_values = dashboard_template_sheet.get_all_values()\n",
        "    print(f\"Successfully read layout from '{dashboard_template_sheet_name}' tab.\")\n",
        "    # Print a snippet to verify\n",
        "    print(\"Dashboard Layout Sample (first 3 rows):\")\n",
        "    for row in dashboard_layout_values[:3]:\n",
        "        print(row)\n",
        "except gspread.exceptions.WorksheetNotFound:\n",
        "    print(f\"Error: Tab '{dashboard_template_sheet_name}' not found. Please check the tab name.\")\n",
        "    raise\n",
        "\n",
        "# --- Get Raw Data Headers ---\n",
        "raw_data_sheet_name = \"Raw_data\"\n",
        "try:\n",
        "    raw_data_sheet = spreadsheet.worksheet(raw_data_sheet_name)\n",
        "    raw_data_headers = raw_data_sheet.row_values(1) # Assumes headers are in the first row\n",
        "    print(f\"Successfully read headers from '{raw_data_sheet_name}' tab.\")\n",
        "    print(\"Raw Data Headers:\", raw_data_headers)\n",
        "except gspread.exceptions.WorksheetNotFound:\n",
        "    print(f\"Error: Tab '{raw_data_sheet_name}' not found. Please check the tab name.\")\n",
        "    raise\n",
        "\n",
        "# Store these for later steps\n",
        "# You'll use dashboard_layout_values and raw_data_headers in LLM prompting!"
      ],
      "metadata": {
        "colab": {
          "base_uri": "https://localhost:8080/"
        },
        "id": "KI5RCHpgVxlq",
        "outputId": "97fa7464-d431-42ef-f06f-9767b2f9a934"
      },
      "execution_count": null,
      "outputs": [
        {
          "output_type": "stream",
          "name": "stdout",
          "text": [
            "Successfully opened spreadsheet: Project Trial -1\n",
            "Successfully read layout from 'Template' tab.\n",
            "Dashboard Layout Sample (first 3 rows):\n",
            "['Date', '6/13/2025', '6/12/2025', '6/11/2025']\n",
            "['BEL', '', '', '']\n",
            "['Open Price', '', '', '']\n",
            "Successfully read headers from 'Raw_data' tab.\n",
            "Raw Data Headers: ['Symbol  ', 'Series  ', 'Date  ', 'Prev Close  ', 'Open Price  ', 'High Price  ', 'Low Price  ', 'Last Price  ', 'Close Price  ', 'Average Price ', 'Total Traded Quantity  ', 'Turnover ₹  ', 'No. of Trades  ', 'Deliverable Qty  ', '% Dly Qt to Traded Qty  ']\n"
          ]
        }
      ]
    },
    {
      "cell_type": "code",
      "source": [
        "# # --- DEBUGGING CELL ---\n",
        "# # Run this cell right before your main script to check the setup.\n",
        "\n",
        "# print(\"--- DEBUGGING INFO ---\")\n",
        "# try:\n",
        "#     # 1. Check if the worksheet object is correct\n",
        "#     print(f\"Connected to worksheet titled: '{dashboard_template_sheet.title}'\")\n",
        "#     print(f\"Spreadsheet URL: {spreadsheet.url}\")\n",
        "\n",
        "#     # 2. Check what's ACTUALLY in your configured start cells\n",
        "#     print(\"--------------------------------------------------\")\n",
        "#     print(f\"Configuration says METRICS start at: {METRICS_START_CELL}\")\n",
        "#     metric_value = dashboard_template_sheet.acell(METRICS_START_CELL).value\n",
        "#     print(f\"Value found in cell {METRICS_START_CELL}: '{metric_value}'\")\n",
        "#     if not metric_value:\n",
        "#         print(\"  -> WARNING: This cell is empty! The script will not find any metrics.\")\n",
        "\n",
        "#     print(f\"\\nConfiguration says DATES start at: {DATES_START_CELL}\")\n",
        "#     date_value = dashboard_template_sheet.acell(DATES_START_CELL).value\n",
        "#     print(f\"Value found in cell {DATES_START_CELL}: '{date_value}'\")\n",
        "#     if not date_value:\n",
        "#         print(\"  -> WARNING: This cell is empty! The script will not find any dates.\")\n",
        "\n",
        "#     # 3. Check the freshness of the data snapshot\n",
        "#     print(\"--------------------------------------------------\")\n",
        "#     print(f\"The data snapshot 'dashboard_layout_values' has {len(dashboard_layout_values)} rows.\")\n",
        "#     print(\"If you recently changed your sheet, make sure you re-ran the cell that defines this variable.\")\n",
        "\n",
        "# except NameError as e:\n",
        "#     print(f\"\\nERROR: A required variable is not defined: {e}\")\n",
        "#     print(\"Please make sure you have run the cells that define 'spreadsheet' and 'dashboard_template_sheet'.\")\n",
        "# except Exception as e:\n",
        "#     print(f\"\\nAn unexpected error occurred during debugging: {e}\")\n",
        "\n",
        "# print(\"\\n--- END DEBUGGING INFO ---\")"
      ],
      "metadata": {
        "colab": {
          "base_uri": "https://localhost:8080/"
        },
        "id": "EeQ-gA-JU3kH",
        "outputId": "5a2a1d6d-f298-4fcb-c92c-6130574a3862"
      },
      "execution_count": null,
      "outputs": [
        {
          "output_type": "stream",
          "name": "stdout",
          "text": [
            "--- DEBUGGING INFO ---\n",
            "Connected to worksheet titled: 'Template'\n",
            "Spreadsheet URL: https://docs.google.com/spreadsheets/d/1aMVKx7jkh0xRaxEn6HbkKWPlP8Cyen6zviXhs1dfMkA\n",
            "--------------------------------------------------\n",
            "Configuration says METRICS start at: A3\n",
            "Value found in cell A3: 'Open Price'\n",
            "\n",
            "Configuration says DATES start at: B1\n",
            "Value found in cell B1: '6/13/2025'\n",
            "--------------------------------------------------\n",
            "The data snapshot 'dashboard_layout_values' has 7 rows.\n",
            "If you recently changed your sheet, make sure you re-ran the cell that defines this variable.\n",
            "\n",
            "--- END DEBUGGING INFO ---\n"
          ]
        }
      ]
    },
    {
      "cell_type": "code",
      "source": [],
      "metadata": {
        "id": "oOLhpMooVdeq"
      },
      "execution_count": null,
      "outputs": []
    },
    {
      "cell_type": "code",
      "source": [
        "# Cell 4: Final, Complete Script with Formula Generation Engine\n",
        "\n",
        "import google.generativeai as genai\n",
        "from google.colab import userdata\n",
        "import os\n",
        "import re\n",
        "import gspread\n",
        "import time\n",
        "\n",
        "# --- Helper functions (No changes needed) ---\n",
        "def get_column_letter(col_num):\n",
        "    string = \"\"\n",
        "    while col_num > 0:\n",
        "        col_num, remainder = divmod(col_num - 1, 26)\n",
        "        string = chr(65 + remainder) + string\n",
        "    return string\n",
        "\n",
        "# --- API Configuration (No changes needed) ---\n",
        "api_key = userdata.get(\"GOOGLE_API_KEY\")\n",
        "if not api_key: raise ValueError(\"GOOGLE_API_KEY not set.\")\n",
        "genai.configure(api_key=api_key)\n",
        "gemini_model = genai.GenerativeModel('models/gemini-1.5-flash-latest')\n",
        "print(\"Gemini model configured.\")\n",
        "\n",
        "# --- Automatic Data Refresh ---\n",
        "# Assumes the 'spreadsheet' object is defined in a previous cell.\n",
        "try:\n",
        "    dashboard_template_sheet = spreadsheet.worksheet(\"Template\") # Use your exact tab name\n",
        "    dashboard_layout_values = dashboard_template_sheet.get_all_values()\n",
        "    print(f\"Successfully fetched a fresh data snapshot from '{dashboard_template_sheet.title}' sheet.\")\n",
        "except gspread.exceptions.WorksheetNotFound:\n",
        "    print(\"ERROR: The worksheet named 'Template' was not found. Please check the name.\")\n",
        "    # Stop execution if the sheet is not found\n",
        "    raise\n",
        "except Exception as e:\n",
        "    print(f\"An error occurred while fetching the sheet: {e}\")\n",
        "    raise\n",
        "\n",
        "# --- CONFIGURATION BLOCK ---\n",
        "METRICS_START_CELL = 'A3'\n",
        "DATES_START_CELL = 'B1'\n",
        "MASTER_SYMBOL_CELL = 'A2'\n",
        "RAW_DATA_SHEET_NAME = 'Raw_data'\n",
        "print(f\"Configuration loaded: Metrics from {METRICS_START_CELL}, Dates from {DATES_START_CELL}\")\n",
        "\n",
        "# --- Robust Logic to Read the Template Structure ---\n",
        "formulas_to_insert = []\n",
        "print(\"\\nReading template structure based on your configuration...\")\n",
        "try:\n",
        "    metrics_start_row, metrics_start_col = gspread.utils.a1_to_rowcol(METRICS_START_CELL)\n",
        "    dates_start_row, dates_start_col = gspread.utils.a1_to_rowcol(DATES_START_CELL)\n",
        "\n",
        "    metric_labels_with_rownum = []\n",
        "    all_metrics_in_col = dashboard_template_sheet.col_values(metrics_start_col)\n",
        "    for r_idx in range(metrics_start_row - 1, len(all_metrics_in_col)):\n",
        "        metric_label = all_metrics_in_col[r_idx].strip()\n",
        "        if metric_label:\n",
        "            metric_labels_with_rownum.append({'label': metric_label, 'row_num': r_idx + 1})\n",
        "        else:\n",
        "            break\n",
        "    print(f\"Found {len(metric_labels_with_rownum)} metrics.\")\n",
        "\n",
        "    date_labels_with_colnum = []\n",
        "    all_dates_in_row = dashboard_template_sheet.row_values(dates_start_row)\n",
        "    for c_idx in range(dates_start_col - 1, len(all_dates_in_row)):\n",
        "        date_label = all_dates_in_row[c_idx].strip()\n",
        "        if date_label:\n",
        "            date_labels_with_colnum.append({'label': date_label, 'col_num': c_idx + 1})\n",
        "        else:\n",
        "            break\n",
        "    print(f\"Found {len(date_labels_with_colnum)} dates.\")\n",
        "\n",
        "    for metric_info in metric_labels_with_rownum:\n",
        "        for date_info in date_labels_with_colnum:\n",
        "            target_row_index = metric_info['row_num'] - 1\n",
        "            target_col_index = date_info['col_num'] - 1\n",
        "            cell_content = ''\n",
        "            if target_row_index < len(dashboard_layout_values) and target_col_index < len(dashboard_layout_values[target_row_index]):\n",
        "                 cell_content = dashboard_layout_values[target_row_index][target_col_index].strip()\n",
        "            if not cell_content:\n",
        "                formulas_to_insert.append({\n",
        "                    'cell_a1': f\"{get_column_letter(date_info['col_num'])}{metric_info['row_num']}\",\n",
        "                    'row_label': metric_info['label'],\n",
        "                    'col_label': date_info['label'],\n",
        "                    'row_num': metric_info['row_num'],\n",
        "                    'col_num': date_info['col_num'],\n",
        "                    'header_row_num': dates_start_row\n",
        "                })\n",
        "except Exception as e:\n",
        "    print(f\"\\nAn unexpected error occurred while reading the template: {e}\")\n",
        "\n",
        "print(f\"\\nIdentified {len(formulas_to_insert)} cells to fill with formulas.\")\n",
        "\n",
        "\n",
        "# ==============================================================================\n",
        "# === THE FORMULA GENERATION ENGINE (This was the missing part) ===\n",
        "# ==============================================================================\n",
        "generated_formulas = []\n",
        "if formulas_to_insert:\n",
        "    # This check is now true, so this block will run\n",
        "    raw_data_headers = spreadsheet.worksheet(RAW_DATA_SHEET_NAME).row_values(1)\n",
        "    raw_data_header_to_col_letter = {h.strip(): get_column_letter(i + 1) for i, h in enumerate(raw_data_headers)}\n",
        "\n",
        "    prompt_instructions = f\"\"\"\n",
        "You are a world-class Google Sheets expert specializing in creating dynamic, efficient, and robust financial dashboards.\n",
        "Your mission is to generate a single, draggable Google Sheets formula based on the rules and layout definitions below.\n",
        "\n",
        "---\n",
        "### **GOLDEN RULES (NON-NEGOTIABLE)**\n",
        "---\n",
        "**1. USE THE CORRECT SHEET NAME:**\n",
        "   - All references to the raw data source MUST use the sheet name '{RAW_DATA_SHEET_NAME}'.\n",
        "   - Example: `'{RAW_DATA_SHEET_NAME}'!A:A`.\n",
        "   - NEVER use default names like 'Sheet1' or 'Sheet2'. This is a critical instruction.\n",
        "**2. ALWAYS Use Aggregation Functions:**\n",
        "   - You MUST use aggregation functions like `SUMIFS`, `AVERAGEIFS`, `MAXIFS`, `MINIFS`.\n",
        "   - You MUST NOT use lookup functions like `VLOOKUP` or `INDEX(MATCH)`.\n",
        "**3. Formulas MUST Be Draggable:**\n",
        "   - You MUST use absolute `$` references correctly.\n",
        "---\n",
        "### **LAYOUT DEFINITIONS (THE \"MAP\")**\n",
        "---\n",
        "**1. '{RAW_DATA_SHEET_NAME}' Sheet Layout:**\n",
        "   - Column A: 'Symbol'\n",
        "   - Column C: 'Date'\n",
        "   - Column E: 'Open Price'\n",
        "   - Column F: 'High Price'\n",
        "   - Column G: 'Low Price'\n",
        "   - Column I: 'Close Price'\n",
        "   - Column K: 'Total Traded Quantity'\n",
        "   - Column L: 'Turnover ₹'\n",
        "**2. 'Dashboard' Sheet Layout:**\n",
        "   - **Master Symbol Filter:** Cell `{MASTER_SYMBOL_CELL}` is the master filter. All formulas MUST filter by the symbol in `${MASTER_SYMBOL_CELL}`.\n",
        "   - **Metric Labels (Row Headers):** Start in `{METRICS_START_CELL}`. Reference with locked column (e.g., `$A3`).\n",
        "   - **Date Headers (Column Headers):** Start in `{DATES_START_CELL}`. Reference with locked row (e.g., `B$1`).\n",
        "---\n",
        "### **THE PERFECT BLUEPRINT (EXAMPLE)**\n",
        "---\n",
        "**Task:** Create a formula for dashboard cell `B3`. The metric label in `$A3` is \"Open Price\". The date is in `B$1`.\n",
        "**Perfect Formula for `B3`:**\n",
        "`=IFERROR(AVERAGEIFS('{RAW_DATA_SHEET_NAME}'!$E:$E, '{RAW_DATA_SHEET_NAME}'!$C:$C, B$1, '{RAW_DATA_SHEET_NAME}'!$A:$A, $A$2), \"\")`\n",
        "\n",
        "Now, use all of these rules and the provided blueprint to generate the formula for the specific task given below.\n",
        "\"\"\"\n",
        "\n",
        "    metrics_col_letter = get_column_letter(gspread.utils.a1_to_rowcol(METRICS_START_CELL)[1])\n",
        "\n",
        "    for i, item in enumerate(formulas_to_insert):\n",
        "        cell_a1 = item['cell_a1']\n",
        "        row_label = item['row_label']\n",
        "\n",
        "        dashboard_metric_cell_ref = f\"${metrics_col_letter}{item['row_num']}\"\n",
        "        date_header_col_letter = get_column_letter(item['col_num'])\n",
        "        dashboard_date_header_cell_ref = f\"{date_header_col_letter}${item['header_row_num']}\"\n",
        "\n",
        "        prompt_task = f\"\"\"\n",
        "        ---\n",
        "        ### **CURRENT TASK**\n",
        "        Generate a single, draggable Google Sheets formula for cell `{cell_a1}`.\n",
        "\n",
        "        - The metric to calculate is specified by the row header: **\"{row_label}\"**.\n",
        "        - The formula must be based on the date in the column header: `{dashboard_date_header_cell_ref}`.\n",
        "        - Remember to always filter by the master symbol in cell `${MASTER_SYMBOL_CELL}`.\n",
        "\n",
        "        Provide just the formula starting with =.\n",
        "\n",
        "        **Google Sheets Formula:**\n",
        "        \"\"\"\n",
        "        final_prompt = prompt_instructions\n",
        "        print(f\"  Generating formula for '{row_label}' at {cell_a1}...\")\n",
        "\n",
        "        try:\n",
        "            response = gemini_model.generate_content(final_prompt + prompt_task)\n",
        "            raw_text = response.text.strip()\n",
        "\n",
        "            formula = raw_text\n",
        "            match = re.search(r'```(?:excel|sheets|google sheets|gsheet)?\\n(.*)```', raw_text, re.DOTALL)\n",
        "            if match:\n",
        "                formula = match.group(1).strip()\n",
        "\n",
        "            formula = formula.replace(\"'Sheet1'!\", f\"'{RAW_DATA_SHEET_NAME}'!\")\n",
        "            formula = formula.replace(\"'Sheet2'!\", f\"'{RAW_DATA_SHEET_NAME}'!\")\n",
        "\n",
        "            formula = re.sub(r\"^[=\\s']+\", \"\", formula).strip()\n",
        "            cleaned_formula = \"=\" + formula\n",
        "\n",
        "            generated_formulas.append({\n",
        "                'cell_a1': cell_a1,\n",
        "                'formula': cleaned_formula\n",
        "            })\n",
        "            print(f\"    Generated: {cleaned_formula}\")\n",
        "\n",
        "        except Exception as e:\n",
        "            print(f\"    Error generating formula for {cell_a1}: {e}\")\n",
        "\n",
        "        time.sleep(6) # Pause between API calls\n",
        "else:\n",
        "    print(\"Could not identify any cells to fill. Check your configuration and template.\")\n",
        "\n",
        "print(\"\\n--- SCRIPT FINISHED ---\")"
      ],
      "metadata": {
        "colab": {
          "base_uri": "https://localhost:8080/",
          "height": 728
        },
        "id": "Pvh9K4WVX8cr",
        "outputId": "cd19ab4d-ffe3-40f2-9315-456836870a9c"
      },
      "execution_count": null,
      "outputs": [
        {
          "output_type": "stream",
          "name": "stdout",
          "text": [
            "Gemini model configured.\n",
            "Successfully fetched a fresh data snapshot from 'Template' sheet.\n",
            "Configuration loaded: Metrics from A3, Dates from B1\n",
            "\n",
            "Reading template structure based on your configuration...\n",
            "Found 5 metrics.\n",
            "Found 3 dates.\n",
            "\n",
            "Identified 15 cells to fill with formulas.\n",
            "  Generating formula for 'Open Price' at B3...\n",
            "    Generated: =IFERROR(AVERAGEIFS('Raw_data'!$E:$E,'Raw_data'!$C:$C,B$1,'Raw_data'!$A:$A,$A$2),\"\")\n",
            "  Generating formula for 'Open Price' at C3...\n",
            "    Generated: =IFERROR(SUMIFS('Raw_data'!$E:$E,'Raw_data'!$C:$C,C$1,'Raw_data'!$A:$A,$A$2),\"\")\n",
            "  Generating formula for 'Open Price' at D3...\n",
            "    Generated: =IFERROR(AVERAGEIFS('Raw_data'!$E:$E,'Raw_data'!$C:$C,D$1,'Raw_data'!$A:$A,$A$2),\"\")\n",
            "  Generating formula for 'High Price' at B4...\n",
            "    Generated: =IFERROR(MAXIFS('Raw_data'!$F:$F,'Raw_data'!$C:$C,B$1,'Raw_data'!$A:$A,$A$2),\"\")\n",
            "  Generating formula for 'High Price' at C4...\n",
            "    Generated: =IFERROR(MAXIFS('Raw_data'!$F:$F,'Raw_data'!$C:$C,C$1,'Raw_data'!$A:$A,$A$2),\"\")\n",
            "  Generating formula for 'High Price' at D4...\n",
            "    Generated: =IFERROR(MAXIFS('Raw_data'!$F:$F,'Raw_data'!$C:$C,D$1,'Raw_data'!$A:$A,$A$2),\"\")\n",
            "  Generating formula for 'Low Price' at B5...\n",
            "    Generated: =IFERROR(MINIFS('Raw_data'!$G:$G,'Raw_data'!$C:$C,B$1,'Raw_data'!$A:$A,$A$2),\"\")\n",
            "  Generating formula for 'Low Price' at C5...\n",
            "    Generated: =IFERROR(MINIFS('Raw_data'!$G:$G,'Raw_data'!$C:$C,C$1,'Raw_data'!$A:$A,$A$2),\"\")\n",
            "  Generating formula for 'Low Price' at D5...\n",
            "    Generated: =IFERROR(MINIFS('Raw_data'!$G:$G,'Raw_data'!$C:$C,D$1,'Raw_data'!$A:$A,$A$2),\"\")\n",
            "  Generating formula for 'Close Price' at B6...\n",
            "    Generated: =IFERROR(SUMIFS('Raw_data'!$I:$I,'Raw_data'!$C:$C,B$1,'Raw_data'!$A:$A,$A$2),\"\")\n",
            "  Generating formula for 'Close Price' at C6...\n",
            "    Generated: =IFERROR(SUMIFS('Raw_data'!$I:$I,'Raw_data'!$C:$C,C$1,'Raw_data'!$A:$A,$A$2),\"\")\n",
            "  Generating formula for 'Close Price' at D6...\n",
            "    Generated: =IFERROR(SUMIFS('Raw_data'!$I:$I,'Raw_data'!$C:$C,D$1,'Raw_data'!$A:$A,$A$2),\"\")\n",
            "  Generating formula for 'Total Traded Quantity' at B7...\n",
            "    Generated: =IFERROR(SUMIFS('Raw_data'!$K:$K,'Raw_data'!$C:$C,B$1,'Raw_data'!$A:$A,$A$2),\"\")\n",
            "  Generating formula for 'Total Traded Quantity' at C7...\n",
            "    Generated: =IFERROR(SUMIFS('Raw_data'!$K:$K,'Raw_data'!$C:$C,C$1,'Raw_data'!$A:$A,$A$2),\"\")\n",
            "  Generating formula for 'Total Traded Quantity' at D7...\n",
            "    Generated: =IFERROR(SUMIFS('Raw_data'!$K:$K,'Raw_data'!$C:$C,D$1,'Raw_data'!$A:$A,$A$2),\"\")\n",
            "\n",
            "--- SCRIPT FINISHED ---\n"
          ]
        }
      ]
    },
    {
      "cell_type": "code",
      "source": [],
      "metadata": {
        "id": "Z8oY82mLbvZh"
      },
      "execution_count": null,
      "outputs": []
    },
    {
      "cell_type": "code",
      "source": [],
      "metadata": {
        "id": "WsiXRU99d1SM"
      },
      "execution_count": null,
      "outputs": []
    },
    {
      "cell_type": "code",
      "source": [
        "# Cell 5: Write Generated Formulas to Google Sheet (Correct Version)\n",
        "\n",
        "print(\"\\nAttempting to write generated formulas to Google Sheet...\")\n",
        "\n",
        "updates_for_sheet = []\n",
        "for item in generated_formulas:\n",
        "    sheet_name = dashboard_template_sheet.title\n",
        "    updates_for_sheet.append({\n",
        "        'range': f\"'{sheet_name}'!{item['cell_a1']}\",\n",
        "        'values': [[item['formula']]]\n",
        "    })\n",
        "\n",
        "if updates_for_sheet:\n",
        "    try:\n",
        "        body = {\n",
        "            'valueInputOption': 'USER_ENTERED', # This is the crucial line\n",
        "            'data': updates_for_sheet\n",
        "        }\n",
        "        spreadsheet.values_batch_update(body=body)\n",
        "        print(f\"\\n🎉 Formulas successfully written to '{sheet_name}'!\")\n",
        "    except Exception as e:\n",
        "        print(f\"\\n❌ Error writing formulas to Google Sheet: {e}\")\n",
        "else:\n",
        "    print(\"No formulas were generated to write.\")"
      ],
      "metadata": {
        "colab": {
          "base_uri": "https://localhost:8080/"
        },
        "id": "vSUYhPwhd24n",
        "outputId": "7ab32746-48b3-4d62-91d4-129d1b276a6e"
      },
      "execution_count": null,
      "outputs": [
        {
          "output_type": "stream",
          "name": "stdout",
          "text": [
            "\n",
            "Attempting to write generated formulas to Google Sheet...\n",
            "\n",
            "🎉 Formulas successfully written to 'Template'!\n"
          ]
        }
      ]
    },
    {
      "cell_type": "code",
      "source": [],
      "metadata": {
        "id": "7RP4nP8anF_U"
      },
      "execution_count": null,
      "outputs": []
    }
  ]
}