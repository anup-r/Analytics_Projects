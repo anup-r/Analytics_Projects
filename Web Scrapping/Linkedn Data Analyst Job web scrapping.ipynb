{
 "cells": [
  {
   "cell_type": "code",
   "execution_count": 3,
   "id": "7ccd0e15",
   "metadata": {},
   "outputs": [
    {
     "name": "stdout",
     "output_type": "stream",
     "text": [
      "Collecting selenium\n",
      "  Downloading selenium-4.4.3-py3-none-any.whl (985 kB)\n",
      "     ------------------------------------ 986.0/986.0 kB 538.2 kB/s eta 0:00:00\n",
      "Collecting trio~=0.17\n",
      "  Downloading trio-0.21.0-py3-none-any.whl (358 kB)\n",
      "     -------------------------------------- 359.0/359.0 kB 1.3 MB/s eta 0:00:00\n",
      "Requirement already satisfied: urllib3[socks]~=1.26 in c:\\users\\anoop\\appdata\\local\\programs\\python\\python310\\lib\\site-packages (from selenium) (1.26.9)\n",
      "Requirement already satisfied: certifi>=2021.10.8 in c:\\users\\anoop\\appdata\\local\\programs\\python\\python310\\lib\\site-packages (from selenium) (2022.6.15)\n",
      "Collecting trio-websocket~=0.9\n",
      "  Downloading trio_websocket-0.9.2-py3-none-any.whl (16 kB)\n",
      "Collecting sniffio\n",
      "  Downloading sniffio-1.3.0-py3-none-any.whl (10 kB)\n",
      "Requirement already satisfied: idna in c:\\users\\anoop\\appdata\\local\\programs\\python\\python310\\lib\\site-packages (from trio~=0.17->selenium) (3.3)\n",
      "Collecting async-generator>=1.9\n",
      "  Using cached async_generator-1.10-py3-none-any.whl (18 kB)\n",
      "Requirement already satisfied: attrs>=19.2.0 in c:\\users\\anoop\\appdata\\local\\programs\\python\\python310\\lib\\site-packages (from trio~=0.17->selenium) (21.4.0)\n",
      "Collecting sortedcontainers\n",
      "  Downloading sortedcontainers-2.4.0-py2.py3-none-any.whl (29 kB)\n",
      "Collecting outcome\n",
      "  Downloading outcome-1.2.0-py2.py3-none-any.whl (9.7 kB)\n",
      "Requirement already satisfied: cffi>=1.14 in c:\\users\\anoop\\appdata\\local\\programs\\python\\python310\\lib\\site-packages (from trio~=0.17->selenium) (1.15.0)\n",
      "Collecting wsproto>=0.14\n",
      "  Downloading wsproto-1.2.0-py3-none-any.whl (24 kB)\n",
      "Requirement already satisfied: PySocks!=1.5.7,<2.0,>=1.5.6 in c:\\users\\anoop\\appdata\\local\\programs\\python\\python310\\lib\\site-packages (from urllib3[socks]~=1.26->selenium) (1.7.1)\n",
      "Requirement already satisfied: pycparser in c:\\users\\anoop\\appdata\\local\\programs\\python\\python310\\lib\\site-packages (from cffi>=1.14->trio~=0.17->selenium) (2.21)\n",
      "Collecting h11<1,>=0.9.0\n",
      "  Downloading h11-0.13.0-py3-none-any.whl (58 kB)\n",
      "     -------------------------------------- 58.2/58.2 kB 772.8 kB/s eta 0:00:00\n",
      "Installing collected packages: sortedcontainers, sniffio, outcome, h11, async-generator, wsproto, trio, trio-websocket, selenium\n",
      "Successfully installed async-generator-1.10 h11-0.13.0 outcome-1.2.0 selenium-4.4.3 sniffio-1.3.0 sortedcontainers-2.4.0 trio-0.21.0 trio-websocket-0.9.2 wsproto-1.2.0\n",
      "\n",
      "[notice] A new release of pip available: 22.1.2 -> 22.2.2\n",
      "[notice] To update, run: python.exe -m pip install --upgrade pip\n",
      "Note: you may need to restart the kernel to use updated packages.\n"
     ]
    }
   ],
   "source": [
    "pip install selenium"
   ]
  },
  {
   "cell_type": "code",
   "execution_count": 2,
   "id": "ac7a2220",
   "metadata": {},
   "outputs": [],
   "source": [
    "import selenium"
   ]
  },
  {
   "cell_type": "code",
   "execution_count": 17,
   "id": "598bb7e0",
   "metadata": {},
   "outputs": [],
   "source": [
    "from selenium import webdriver\n",
    "import time\n",
    "import pandas as pd\n",
    "from selenium.webdriver.common.by import By\n",
    "from selenium.webdriver.common.action_chains import ActionChains"
   ]
  },
  {
   "cell_type": "code",
   "execution_count": 4,
   "id": "bd6addac",
   "metadata": {},
   "outputs": [],
   "source": [
    "url=\"https://www.linkedin.com/?trk=guest_homepage-basic_nav-header-logo\""
   ]
  },
  {
   "cell_type": "code",
   "execution_count": 5,
   "id": "ff987f34",
   "metadata": {},
   "outputs": [
    {
     "name": "stderr",
     "output_type": "stream",
     "text": [
      "C:\\Users\\ANOOP\\AppData\\Local\\Temp\\ipykernel_10984\\2844372254.py:1: DeprecationWarning: executable_path has been deprecated, please pass in a Service object\n",
      "  wd = webdriver.Chrome('C:/Users/ANOOP/Documents/Chromedriver/chromedriver')\n"
     ]
    }
   ],
   "source": [
    "wd = webdriver.Chrome('C:/Users/ANOOP/Documents/Chromedriver/chromedriver')\n",
    "wd.get(url)"
   ]
  },
  {
   "cell_type": "code",
   "execution_count": 28,
   "id": "feea57eb",
   "metadata": {},
   "outputs": [],
   "source": [
    "# job_lists = wd.find_element(By.CLASS_NAME,\"jobs-search__results-list\")\n",
    "# jobs = job_lists.find_elements(By.TAG_NAME,\"li\")"
   ]
  },
  {
   "cell_type": "code",
   "execution_count": 6,
   "id": "735e0457",
   "metadata": {},
   "outputs": [],
   "source": [
    "username=wd.find_element(By.ID,\"session_key\")\n",
    "username.send_keys(\"ranjananup76@gmail.com\")"
   ]
  },
  {
   "cell_type": "code",
   "execution_count": 7,
   "id": "4fd82510",
   "metadata": {},
   "outputs": [],
   "source": [
    "password=wd.find_element(By.ID,\"session_password\")\n",
    "password.send_keys(\"hello@098\")"
   ]
  },
  {
   "cell_type": "code",
   "execution_count": 8,
   "id": "77ade9b2",
   "metadata": {},
   "outputs": [],
   "source": [
    "login_button=wd.find_element(By.CLASS_NAME,\"sign-in-form__submit-button\")\n",
    "login_button.click()"
   ]
  },
  {
   "cell_type": "code",
   "execution_count": null,
   "id": "c2988078",
   "metadata": {},
   "outputs": [],
   "source": [
    "# https://www.linkedin.com/jobs/search/?currentJobId=3270791709&distance=25&geoId=105214831&keywords=data%20analyst"
   ]
  },
  {
   "cell_type": "code",
   "execution_count": null,
   "id": "1318f143",
   "metadata": {},
   "outputs": [],
   "source": [
    "# https://www.linkedin.com/jobs/search/?currentJobId=3264450260&distance=25&geoId=105214831&keywords=data%20analyst&start=25"
   ]
  },
  {
   "cell_type": "code",
   "execution_count": null,
   "id": "386fd611",
   "metadata": {},
   "outputs": [],
   "source": [
    "# https://www.linkedin.com/jobs/search/?currentJobId=3270791709&distance=25&f_WT=1&geoId=105214831&keywords=data%20analyst"
   ]
  },
  {
   "cell_type": "code",
   "execution_count": 9,
   "id": "9643a22f",
   "metadata": {},
   "outputs": [],
   "source": [
    "jobtype = '1' #On-site\n",
    "keyword = 'data%20analyst' # \"%20\" = space \n",
    "page = '0' #start at 0. Goes in multiples of 25 \n",
    "#URL\n",
    "URL1 = 'https://www.linkedin.com/jobs/search/?f_WT='+jobtype+'&geoId=105214831&keywords='+keyword+'&start='+page"
   ]
  },
  {
   "cell_type": "code",
   "execution_count": null,
   "id": "53a5f35c",
   "metadata": {},
   "outputs": [],
   "source": [
    "# 'https://www.linkedin.com/jobs/search/?f_WT=1&geoId=105214831&keywords=data%20analyst&start=0'"
   ]
  },
  {
   "cell_type": "code",
   "execution_count": 26,
   "id": "e642b368",
   "metadata": {},
   "outputs": [],
   "source": [
    "def getLinkedinJobs(wd,keyword,jobType,maxPageNumSearch):\n",
    "    actions = ActionChains(wd)\n",
    "    jobtype = str(jobType) #1 = Onsite\n",
    "    keyword = keyword.replace(' ','%20') # %20 = space\n",
    "    jobData = [['title','company','companyLink','location','jobLink','posterName','posterProfileLink','jobDescription']]\n",
    "    for p in range(maxPageNumSearch):\n",
    "        page = str(p*25)\n",
    "        #print(page)\n",
    "        wd.get('https://www.linkedin.com/jobs/search/?f_WT='+jobtype+'&geoId=105214831&keywords='+keyword+'&start='+page)\n",
    "        time.sleep(3)\n",
    "        #Search for all job postings shown\n",
    "        jobs = wd.find_elements(By.CLASS_NAME,'jobs-search-results__list-item')\n",
    "        i=0\n",
    "        for j in jobs:\n",
    "            #print(i)\n",
    "            i+=1\n",
    "            time.sleep(2)\n",
    "            actions.move_to_element(j).perform()\n",
    "            j.find_element(By.TAG_NAME,'img').click() #Click on the image so it doesnt misclick a URL\n",
    "            jobData.append(getJobInfo(wd))\n",
    "    df = pd.DataFrame(jobData[1:],columns=jobData[0])\n",
    "    #Drop any duplicate\n",
    "    df.drop_duplicates(subset = ['jobLink'],inplace=True)\n",
    "    return df"
   ]
  },
  {
   "cell_type": "code",
   "execution_count": 19,
   "id": "00e9f633",
   "metadata": {},
   "outputs": [],
   "source": [
    "def getJobInfo(wd):\n",
    "    title = ''\n",
    "    company = ''\n",
    "    companyLink = ''\n",
    "    location = ''\n",
    "    jobLink = ''\n",
    "    posterName = ''\n",
    "    posterProfileLink = ''\n",
    "    jobDescription = ''\n",
    "    try:\n",
    "        title = wd.find_element(By.CLASS_NAME,'jobs-unified-top-card__content--two-pane').text.split('\\n')[0]\n",
    "    except:\n",
    "        pass\n",
    "    try:\n",
    "        company = wd.find_element(By.CLASS_NAME,'jobs-unified-top-card__company-name').text\n",
    "    except:\n",
    "        pass\n",
    "    try:\n",
    "        companyLink = wd.find_element(By.CLASS_NAME,'jobs-unified-top-card__company-name').find_element(By.TAG_NAME,'a').get_attribute('href')\n",
    "    except:\n",
    "        pass\n",
    "    try:\n",
    "        location = wd.find_element(By.CLASS_NAME,'jobs-unified-top-card__bullet').text\n",
    "    except:\n",
    "        pass\n",
    "    try:\n",
    "        jobLink = wd.find_element(By.CLASS_NAME,'jobs-unified-top-card__content--two-pane').find_element(By.TAG_NAME,'a').get_attribute('href')\n",
    "    except:\n",
    "        pass\n",
    "    try:\n",
    "        posterName = wd.find_element(By.CLASS_NAME,'jobs-poster__name').text\n",
    "    except:\n",
    "        pass\n",
    "    try:\n",
    "        posterProfileLink = wd.find_element(By.CLASS_NAME,'jobs-poster__name-link').get_attribute('href')\n",
    "    except:\n",
    "        pass\n",
    "    try:\n",
    "        jobDescription = wd.find_element(By.CLASS_NAME,'jobs-box__html-content').find_element(By.TAG_NAME,'span').text.replace('\\n',' ')\n",
    "    except:\n",
    "        pass\n",
    "    return [title,company,companyLink,location,jobLink,posterName,posterProfileLink,jobDescription]"
   ]
  },
  {
   "cell_type": "code",
   "execution_count": 29,
   "id": "81ca3a05",
   "metadata": {},
   "outputs": [],
   "source": [
    "a=getLinkedinJobs(wd,'data analyst','1',10)"
   ]
  },
  {
   "cell_type": "code",
   "execution_count": 32,
   "id": "c1e48777",
   "metadata": {},
   "outputs": [
    {
     "name": "stdout",
     "output_type": "stream",
     "text": [
      "<class 'pandas.core.frame.DataFrame'>\n",
      "Int64Index: 250 entries, 0 to 249\n",
      "Data columns (total 8 columns):\n",
      " #   Column             Non-Null Count  Dtype \n",
      "---  ------             --------------  ----- \n",
      " 0   title              250 non-null    object\n",
      " 1   company            250 non-null    object\n",
      " 2   companyLink        250 non-null    object\n",
      " 3   location           250 non-null    object\n",
      " 4   jobLink            250 non-null    object\n",
      " 5   posterName         250 non-null    object\n",
      " 6   posterProfileLink  250 non-null    object\n",
      " 7   jobDescription     250 non-null    object\n",
      "dtypes: object(8)\n",
      "memory usage: 17.6+ KB\n"
     ]
    }
   ],
   "source": [
    "a.info()"
   ]
  },
  {
   "cell_type": "code",
   "execution_count": 36,
   "id": "6896c813",
   "metadata": {},
   "outputs": [],
   "source": [
    "a.drop(['posterName','posterProfileLink'],axis=1,inplace=True)"
   ]
  },
  {
   "cell_type": "code",
   "execution_count": 41,
   "id": "1ffad0f7",
   "metadata": {},
   "outputs": [
    {
     "data": {
      "text/plain": [
       "array(['Giant Eagle GCC', 'ABB', 'Target', 'Honeywell',\n",
       "       'Bosch Global Software Technologies', 'Happay', 'Cargill', 'Wipro',\n",
       "       'LKQ Corporation', 'Autodesk', 'Rystad Energy',\n",
       "       'Accenture in India', 'Open Financial Technologies',\n",
       "       'Fidelity Investments', 'BD', 'Optum', 'Gensler', 'Nielsen',\n",
       "       'twid', 'SuperK', 'Bread Financial', 'Vedantu', 'TMF Group',\n",
       "       'AKS ProTalent', 'Simplify360', 'FloBiz', 'Indium Software',\n",
       "       'DocsApp', 'Dunzo', 'Qualcomm', 'Eloelo', 'Pankhuri', 'Bayer',\n",
       "       'ISG (Information Services Group)', 'Hewlett Packard Enterprise',\n",
       "       'Netradyne', 'JLL', 'Yara International', 'SKILLETY', 'Chubb',\n",
       "       'Inference Labs', 'Cephas Consultancy Services Private Limited',\n",
       "       'HuntingCube Recruitment Solutions', 'Next Labs',\n",
       "       'Ezetap by Razorpay', 'Logitech', 'Rolls-Royce',\n",
       "       'Millennium IMS Private Limited', 'NTT DATA Services',\n",
       "       'SymphonyAI Retail CPG', 'grofers', 'Becton Dickenson',\n",
       "       \"Moody's Corporation\", 'CoStrategix', 'Cardinal Health', 'Cigna',\n",
       "       'Prometheus Consulting Inc.', 'DataZymes', 'Namaste Credit',\n",
       "       'Upshoot', 'Smiles.ai', 'Quotient Technology Inc.', 'IHS Markit',\n",
       "       'Levi Strauss & Co.', 'Ralph Lauren',\n",
       "       'WyzMindz Solutions Pvt. Ltd.', 'Thermo Fisher Scientific',\n",
       "       'Armorblox', 'GSN Games', 'Proziod Analytics', 'State Street',\n",
       "       'KreditBee', 'Response Informatics', 'Ekya Schools',\n",
       "       'JK Moving Services', 'QUILLSOFT IT SERVICES', 'Otis Elevator Co.',\n",
       "       'Luxoft', 'Mojocare', 'Solera, Inc.', 'Winuall',\n",
       "       'Dotball Interactive Private Limited', 'OneCode.in', 'ANZ',\n",
       "       'NatWest Group', 'Dotdash Meredith', 'JLL Technologies',\n",
       "       'Falcon Smart IT (FalconSmartIT)',\n",
       "       'Pretium Enterprise Operations India Private Limited',\n",
       "       'Biofourmis', 'PayPal', 'Edu Angels India Private Limited',\n",
       "       'Trusting Social', 'Diverse Lynx', 'Graphene AI',\n",
       "       'D. E. Shaw India Private Limited', 'Eli Lilly and Company',\n",
       "       'Log9 Materials', 'Marktine Technology Solutions Pvt Ltd',\n",
       "       'CIEL HR', 'WorkIndia', 'Codeyoung', 'TYZER TECHNOLOGIES', 'UST',\n",
       "       'Coredge.io', 'Kapiva', 'Nineleaps', 'Epsilon India',\n",
       "       'Talent Zone Consultant', 'AppSoft Solutions', 'Novo Nordisk',\n",
       "       'Right Track Corporate Services', 'Nike', 'Wells Fargo',\n",
       "       'Michael Page', 'Molex', 'TE Connectivity', 'R2R Consultants LLP',\n",
       "       'Valiance Solutions', 'Games24x7', 'Trell', 'PowerSchool',\n",
       "       'SBM Offshore', 'NetApp', 'Amazon', 'Shell', 'JobDost',\n",
       "       'Malakye.com', 'Verzeo', 'LeadSquared', 'Genpact', 'ITC Infotech',\n",
       "       'TALCHEMIST', 'GM Infotech', 'Sizzle',\n",
       "       'Benchmark Digital Partners LLC', 'Thermo Fisher Scientific India',\n",
       "       'Micron Technology', 'Codejudge Inc.', 'IQVIA', 'Goldman Sachs',\n",
       "       'Zynga', 'Silicon Valley Bank', 'G2', 'ExxonMobil',\n",
       "       'Kaplan Test Prep', 'NTT Ltd.', 'ESSENWARE PRIVATE LIMITED',\n",
       "       'Wysa', 'Koch Business Solutions India',\n",
       "       'Boston Consulting Group (BCG)', 'Ethos', 'JPMorgan Chase & Co.',\n",
       "       'Uplers'], dtype=object)"
      ]
     },
     "execution_count": 41,
     "metadata": {},
     "output_type": "execute_result"
    }
   ],
   "source": [
    "a[\"company\"].unique()"
   ]
  },
  {
   "cell_type": "code",
   "execution_count": null,
   "id": "62c5f1ad",
   "metadata": {},
   "outputs": [],
   "source": []
  }
 ],
 "metadata": {
  "kernelspec": {
   "display_name": "Python 3",
   "language": "python",
   "name": "python3"
  },
  "language_info": {
   "codemirror_mode": {
    "name": "ipython",
    "version": 3
   },
   "file_extension": ".py",
   "mimetype": "text/x-python",
   "name": "python",
   "nbconvert_exporter": "python",
   "pygments_lexer": "ipython3",
   "version": "3.10.5"
  }
 },
 "nbformat": 4,
 "nbformat_minor": 5
}
